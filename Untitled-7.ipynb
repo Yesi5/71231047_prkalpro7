{
 "cells": [
  {
   "cell_type": "code",
   "execution_count": 17,
   "metadata": {},
   "outputs": [
    {
     "name": "stdout",
     "output_type": "stream",
     "text": [
      "buku dan kubi bukan anagram.\n"
     ]
    }
   ],
   "source": [
    "# Latihan 7.1\n",
    "\n",
    "def is_anagram(kata1, kata2):\n",
    "    kata1 = kata1.replace(\" \", \"\").lower()\n",
    "    kata2 = kata2.replace(\" \", \"\").lower()\n",
    "    \n",
    "    if len(kata1) != len(kata2):\n",
    "        return False\n",
    "    \n",
    "    sorted_kata1 = sorted(kata1)\n",
    "    sorted_kata2 = sorted(kata2)\n",
    "    \n",
    "    if sorted_kata1 == sorted_kata2:\n",
    "        return True\n",
    "    else:\n",
    "        return False\n",
    "\n",
    "kata1 = input(\"Masukkan kata pertama: \")\n",
    "kata2 = input(\"Masukkan kata kedua: \")\n",
    "\n",
    "if is_anagram(kata1, kata2):\n",
    "    print(f\"{kata1} dan {kata2} adalah anagram.\")\n",
    "else:\n",
    "    print(f\"{kata1} dan {kata2} bukan anagram.\")\n",
    "\n"
   ]
  },
  {
   "cell_type": "code",
   "execution_count": 16,
   "metadata": {},
   "outputs": [
    {
     "name": "stdout",
     "output_type": "stream",
     "text": [
      "Kata 'makan' ada 3 buah dalam kalimat tersebut.\n"
     ]
    }
   ],
   "source": [
    "# Latihan 7.2\n",
    "\n",
    "import string\n",
    "\n",
    "def count_word_frequency(sentence, word):\n",
    "    sentence = sentence.lower()\n",
    "    word = word.lower()\n",
    "\n",
    "    for punctuation in string.punctuation:\n",
    "        sentence = sentence.replace(punctuation, '')\n",
    "\n",
    "    words = sentence.split()\n",
    "\n",
    "    frequency = words.count(word)\n",
    "\n",
    "    return frequency\n",
    "\n",
    "user_sentence = input(\"Masukkan sebuah kalimat: \")\n",
    "user_word = input(\"Masukkan kata yang ingin dihitung: \")\n",
    "\n",
    "word_frequency = count_word_frequency(user_sentence, user_word)\n",
    "\n",
    "print(f\"Kata '{user_word}' ada {word_frequency} buah dalam kalimat tersebut.\")"
   ]
  },
  {
   "cell_type": "code",
   "execution_count": 9,
   "metadata": {},
   "outputs": [
    {
     "name": "stdout",
     "output_type": "stream",
     "text": [
      "Input string: saya  tidak   suka memancing    ikan\n",
      "Output string: saya tidak suka memancing ikan\n"
     ]
    }
   ],
   "source": [
    "# Latihan 7.3\n",
    "\n",
    "def remove_extra_spaces(input_string):\n",
    "    input_string = input_string.strip()\n",
    "    \n",
    "    output_string = \" \".join(input_string.split())\n",
    "    \n",
    "    return output_string\n",
    "\n",
    "user_input = input(\"Masukkan sebuah string: \")\n",
    "\n",
    "output_str = remove_extra_spaces(user_input)\n",
    "\n",
    "print(\"Input string:\", user_input)\n",
    "print(\"Output string:\", output_str)"
   ]
  },
  {
   "cell_type": "code",
   "execution_count": 18,
   "metadata": {},
   "outputs": [
    {
     "name": "stdout",
     "output_type": "stream",
     "text": [
      "Kalimat: red snakes and a black frog in the pool\n",
      "Kata terpendek: a\n",
      "Kata terpanjang: snakes\n"
     ]
    }
   ],
   "source": [
    "# Latihan 7.4\n",
    "\n",
    "def find_shortest_longest_words(sentence):\n",
    "    words = sentence.split()\n",
    "    \n",
    "    shortest_word = words[0]\n",
    "    longest_word = words[0]\n",
    "    \n",
    "    for word in words:\n",
    "        if len(word) < len(shortest_word):\n",
    "            shortest_word = word\n",
    "        elif len(word) > len(longest_word):\n",
    "            longest_word = word\n",
    "    \n",
    "    return shortest_word, longest_word\n",
    "\n",
    "user_input = input(\"Masukkan sebuah kalimat: \")\n",
    "\n",
    "shortest, longest = find_shortest_longest_words(user_input)\n",
    "\n",
    "print(\"Kalimat:\", user_input)\n",
    "print(\"Kata terpendek:\", shortest)\n",
    "print(\"Kata terpanjang:\", longest)"
   ]
  }
 ],
 "metadata": {
  "kernelspec": {
   "display_name": "Python 3",
   "language": "python",
   "name": "python3"
  },
  "language_info": {
   "codemirror_mode": {
    "name": "ipython",
    "version": 3
   },
   "file_extension": ".py",
   "mimetype": "text/x-python",
   "name": "python",
   "nbconvert_exporter": "python",
   "pygments_lexer": "ipython3",
   "version": "3.12.0"
  }
 },
 "nbformat": 4,
 "nbformat_minor": 2
}
